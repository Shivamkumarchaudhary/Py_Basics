{
 "cells": [
  {
   "cell_type": "markdown",
   "id": "c615e194",
   "metadata": {},
   "source": [
    "### Py_Basics"
   ]
  },
  {
   "cell_type": "markdown",
   "id": "ffede5fe",
   "metadata": {},
   "source": [
    "###  use print and some basic string program"
   ]
  },
  {
   "cell_type": "code",
   "execution_count": 2,
   "id": "799d88b8",
   "metadata": {},
   "outputs": [
    {
     "name": "stdout",
     "output_type": "stream",
     "text": [
      "1.25\n"
     ]
    }
   ],
   "source": [
    "a=5/4\n",
    "print(a)"
   ]
  },
  {
   "cell_type": "code",
   "execution_count": 4,
   "id": "e5095974",
   "metadata": {},
   "outputs": [
    {
     "name": "stdout",
     "output_type": "stream",
     "text": [
      "Hello \n",
      " World\n"
     ]
    }
   ],
   "source": [
    "print (\"Hello \\n World\")"
   ]
  },
  {
   "cell_type": "code",
   "execution_count": 2,
   "id": "023182b8",
   "metadata": {},
   "outputs": [
    {
     "name": "stdout",
     "output_type": "stream",
     "text": [
      "please enter a value102\n"
     ]
    },
    {
     "data": {
      "text/plain": [
       "'102'"
      ]
     },
     "execution_count": 2,
     "metadata": {},
     "output_type": "execute_result"
    }
   ],
   "source": [
    "input('please enter a value')"
   ]
  },
  {
   "cell_type": "code",
   "execution_count": 3,
   "id": "211134d5",
   "metadata": {},
   "outputs": [
    {
     "name": "stdout",
     "output_type": "stream",
     "text": [
      "please enter a valueRajeev\n"
     ]
    },
    {
     "data": {
      "text/plain": [
       "'Rajeev'"
      ]
     },
     "execution_count": 3,
     "metadata": {},
     "output_type": "execute_result"
    }
   ],
   "source": [
    "input('please enter a value')"
   ]
  },
  {
   "cell_type": "code",
   "execution_count": 7,
   "id": "fcb68292",
   "metadata": {},
   "outputs": [
    {
     "name": "stdout",
     "output_type": "stream",
     "text": [
      "hello world\n"
     ]
    }
   ],
   "source": [
    "print(\"hello\" +\" \" + \"world\")"
   ]
  },
  {
   "cell_type": "code",
   "execution_count": 8,
   "id": "42426e2e",
   "metadata": {},
   "outputs": [
    {
     "name": "stdout",
     "output_type": "stream",
     "text": [
      "55\n"
     ]
    }
   ],
   "source": [
    "print(\"5\"+\"5\")"
   ]
  },
  {
   "cell_type": "code",
   "execution_count": 9,
   "id": "c33832c6",
   "metadata": {},
   "outputs": [
    {
     "name": "stdout",
     "output_type": "stream",
     "text": [
      "10\n"
     ]
    }
   ],
   "source": [
    "print(5+5)"
   ]
  },
  {
   "cell_type": "code",
   "execution_count": 14,
   "id": "ece1adb5",
   "metadata": {},
   "outputs": [
    {
     "name": "stdout",
     "output_type": "stream",
     "text": [
      "hello\n",
      "hello\n",
      "hello\n",
      "\n"
     ]
    }
   ],
   "source": [
    "print(\"hello\\n\"*3)   # Multiplication not valid in string"
   ]
  },
  {
   "cell_type": "markdown",
   "id": "a4b95bdc",
   "metadata": {},
   "source": [
    "### in place operator"
   ]
  },
  {
   "cell_type": "code",
   "execution_count": 15,
   "id": "16cc0d14",
   "metadata": {},
   "outputs": [
    {
     "name": "stdout",
     "output_type": "stream",
     "text": [
      "36\n"
     ]
    }
   ],
   "source": [
    "age=35\n",
    "age+=1\n",
    "print(age)"
   ]
  },
  {
   "cell_type": "code",
   "execution_count": 16,
   "id": "3fdbcc4d",
   "metadata": {},
   "outputs": [
    {
     "name": "stdout",
     "output_type": "stream",
     "text": [
      "37\n"
     ]
    }
   ],
   "source": [
    "age=35\n",
    "age+=2\n",
    "print(age)"
   ]
  },
  {
   "cell_type": "code",
   "execution_count": 21,
   "id": "cabd0ed9",
   "metadata": {},
   "outputs": [
    {
     "name": "stdout",
     "output_type": "stream",
     "text": [
      "140\n"
     ]
    }
   ],
   "source": [
    "age*=2\n",
    "print(age)"
   ]
  },
  {
   "cell_type": "code",
   "execution_count": 22,
   "id": "2ffe480d",
   "metadata": {},
   "outputs": [
    {
     "name": "stdout",
     "output_type": "stream",
     "text": [
      "helloworld\n"
     ]
    }
   ],
   "source": [
    "b=\"hello\"\n",
    "b+=\"world\"\n",
    "print(b)"
   ]
  },
  {
   "cell_type": "markdown",
   "id": "62870541",
   "metadata": {},
   "source": [
    "### type casting program"
   ]
  },
  {
   "cell_type": "code",
   "execution_count": 25,
   "id": "6c323ce4",
   "metadata": {},
   "outputs": [
    {
     "name": "stdout",
     "output_type": "stream",
     "text": [
      "inter the principle value2000\n",
      "enter the time10\n",
      "400.0\n"
     ]
    }
   ],
   "source": [
    "r=2\n",
    "p=int(input(\"inter the principle value\"))\n",
    "t=int(input(\"enter the time\"))\n",
    "sI=p*r*t/100\n",
    "print(sI)"
   ]
  },
  {
   "cell_type": "code",
   "execution_count": 3,
   "id": "6c997cb5",
   "metadata": {},
   "outputs": [
    {
     "name": "stdout",
     "output_type": "stream",
     "text": [
      "rajeev5\n"
     ]
    }
   ],
   "source": [
    "s='rajeev'+str(5)\n",
    "print(s)"
   ]
  },
  {
   "cell_type": "code",
   "execution_count": 7,
   "id": "4f802dbb",
   "metadata": {},
   "outputs": [
    {
     "name": "stdout",
     "output_type": "stream",
     "text": [
      "Enter the number7\n",
      "1234567\n"
     ]
    }
   ],
   "source": [
    "n=int(input(\"Enter the number\"))\n",
    "s=''\n",
    "for i in range(1,n+1):\n",
    "    s=s+str(i)\n",
    "print(s)"
   ]
  },
  {
   "cell_type": "markdown",
   "id": "49896cb9",
   "metadata": {},
   "source": [
    "### control statement"
   ]
  },
  {
   "cell_type": "code",
   "execution_count": 28,
   "id": "207f53a8",
   "metadata": {},
   "outputs": [
    {
     "name": "stdout",
     "output_type": "stream",
     "text": [
      "enter your age19\n",
      "you are an adult\n"
     ]
    }
   ],
   "source": [
    "age=int(input(\"enter your age\"))\n",
    "if(age>=18):\n",
    "    print(\"you are an adult\")\n",
    "else:\n",
    "    print(\"you are not an adult\")"
   ]
  },
  {
   "cell_type": "code",
   "execution_count": 31,
   "id": "4564c171",
   "metadata": {},
   "outputs": [
    {
     "name": "stdout",
     "output_type": "stream",
     "text": [
      "enter your marks99\n",
      "grade is A+\n"
     ]
    }
   ],
   "source": [
    "marks=int(input(\"enter your marks\"))\n",
    "if (marks>35 and marks<=45):\n",
    "    print(\"grade C\")\n",
    "elif (marks>45 and marks<=75):\n",
    "    print(\"grade B\")\n",
    "elif (marks>75 and marks<=90):\n",
    "    print(\"grade A\")\n",
    "elif (marks>90 and marks<=100):\n",
    "    print(\"grade is A+\")\n",
    "else:\n",
    "    print(\"markes is not valied\")"
   ]
  },
  {
   "cell_type": "code",
   "execution_count": 36,
   "id": "6b07d09d",
   "metadata": {},
   "outputs": [
    {
     "name": "stdout",
     "output_type": "stream",
     "text": [
      "['Rajee', 'uday', 'prakash', 'Mukesh']\n",
      "Rajee\n",
      "Mukesh\n",
      "['Rajee', 'uday', 'prakash', 'Mukesh']\n",
      "['Rajee', 'uday', 'prakash', 'Mukesh']\n",
      "a\n"
     ]
    }
   ],
   "source": [
    "# create list\n",
    "name = [\"Rajee\",\"uday\",\"prakash\",\"Mukesh\"]\n",
    "print(name)\n",
    "print(name[0])\n",
    "print(name[-1])\n",
    "print(name[0:])\n",
    "print(name[:4])\n",
    "print(name[0][1]) # zeroth index ke first index ka latter"
   ]
  },
  {
   "cell_type": "code",
   "execution_count": 37,
   "id": "9348f228",
   "metadata": {},
   "outputs": [
    {
     "name": "stdout",
     "output_type": "stream",
     "text": [
      "9\n"
     ]
    }
   ],
   "source": [
    "number=[1,2,4,7,9]\n",
    "print(number[4])"
   ]
  },
  {
   "cell_type": "code",
   "execution_count": 38,
   "id": "1150064c",
   "metadata": {},
   "outputs": [
    {
     "name": "stdout",
     "output_type": "stream",
     "text": [
      "[]\n"
     ]
    }
   ],
   "source": [
    "# create empty list\n",
    "abc = []\n",
    "print(abc)"
   ]
  },
  {
   "cell_type": "code",
   "execution_count": 47,
   "id": "11aacb87",
   "metadata": {},
   "outputs": [
    {
     "name": "stdout",
     "output_type": "stream",
     "text": [
      "[1, 2, 5, 4]\n"
     ]
    }
   ],
   "source": [
    "\n",
    "number=[1,2,3,4]\n",
    "number[2]=5\n",
    "print(number)"
   ]
  },
  {
   "cell_type": "code",
   "execution_count": 48,
   "id": "51f71e29",
   "metadata": {},
   "outputs": [
    {
     "name": "stdout",
     "output_type": "stream",
     "text": [
      "[1, 2, 3, 4, 5, 6, 7, 8, 9, 12, 34, 15, 17, 19, 81]\n"
     ]
    }
   ],
   "source": [
    "# adding list\n",
    "num1=[1,2,3,4]\n",
    "num2=[5,6,7,8,9]\n",
    "num3=[12,34,15,17,19,81]\n",
    "print(num1+ num2 +num3)"
   ]
  },
  {
   "cell_type": "code",
   "execution_count": 44,
   "id": "927a181c",
   "metadata": {},
   "outputs": [
    {
     "name": "stdout",
     "output_type": "stream",
     "text": [
      "[1, 2, 3, 4, 1, 2, 3, 4, 5, 6, 7, 8, 9, 5, 6, 7, 8, 9, 5, 6, 7, 8, 9]\n"
     ]
    }
   ],
   "source": [
    "num1=[1,2,3,4]\n",
    "num2=[5,6,7,8,9]\n",
    "print(num1*2 + num2*3)"
   ]
  },
  {
   "cell_type": "code",
   "execution_count": 46,
   "id": "09cebf42",
   "metadata": {},
   "outputs": [
    {
     "name": "stdout",
     "output_type": "stream",
     "text": [
      "True\n",
      "False\n"
     ]
    }
   ],
   "source": [
    "# name present or not in the list\n",
    "name = [\"Rajeev\",\"uday\",\"prakash\",\"Mukesh\"]\n",
    "print(\"Rajeev\" in name)\n",
    "print(\"kumar\" in name)"
   ]
  },
  {
   "cell_type": "code",
   "execution_count": 51,
   "id": "09574b9b",
   "metadata": {},
   "outputs": [
    {
     "name": "stdout",
     "output_type": "stream",
     "text": [
      "False\n",
      "True\n"
     ]
    }
   ],
   "source": [
    "# number present or not in the present list\n",
    "number = [1,2,3,4,5]\n",
    "print(7 in number)\n",
    "print(3 in number)"
   ]
  },
  {
   "cell_type": "markdown",
   "id": "983c9a1d",
   "metadata": {},
   "source": [
    "###  List function in python"
   ]
  },
  {
   "cell_type": "code",
   "execution_count": 55,
   "id": "6dcb727b",
   "metadata": {},
   "outputs": [
    {
     "name": "stdout",
     "output_type": "stream",
     "text": [
      "['Rajeev', 'uday', 'prakash', 'Mukesh', 'Vivek']\n"
     ]
    }
   ],
   "source": [
    "name = [\"Rajeev\",\"uday\",\"prakash\",\"Mukesh\"]\n",
    "name.append(\"Vivek\") # taking one argument only\n",
    "print(name)"
   ]
  },
  {
   "cell_type": "code",
   "execution_count": 62,
   "id": "048f58ae",
   "metadata": {},
   "outputs": [
    {
     "name": "stdout",
     "output_type": "stream",
     "text": [
      "['Rajeev', 'uday', 'prakash', 'Mukesh', ['Vivek', 'Anish']]\n",
      "5\n"
     ]
    }
   ],
   "source": [
    "# find length of list\n",
    "\n",
    "name1 = [\"Rajeev\",\"uday\",\"prakash\",\"Mukesh\"]\n",
    "name1.append([\"Vivek\",\"Anish\"])\n",
    "print(name1)\n",
    "print(len(name1))"
   ]
  },
  {
   "cell_type": "code",
   "execution_count": 61,
   "id": "f1907fa7",
   "metadata": {},
   "outputs": [
    {
     "name": "stdout",
     "output_type": "stream",
     "text": [
      "['Rajeev', 'Rajesh', 'uday', 'prakash', 'Mukesh']\n"
     ]
    }
   ],
   "source": [
    "# insert particular index\n",
    "\n",
    "name1 = [\"Rajeev\",\"uday\",\"prakash\",\"Mukesh\"]\n",
    "name1.insert(1,\"Rajesh\")\n",
    "print(name1)"
   ]
  },
  {
   "cell_type": "code",
   "execution_count": 65,
   "id": "9b3c7144",
   "metadata": {},
   "outputs": [
    {
     "name": "stdout",
     "output_type": "stream",
     "text": [
      "2\n"
     ]
    }
   ],
   "source": [
    "name1 = [\"Rajeev\",\"uday\",\"prakash\",\"Mukesh\"]\n",
    "print(name1.index(\"prakash\"))  # prakash 2nd index par h"
   ]
  },
  {
   "cell_type": "markdown",
   "id": "caa4a4f2",
   "metadata": {},
   "source": [
    "###  Range function in python"
   ]
  },
  {
   "cell_type": "code",
   "execution_count": 68,
   "id": "cc5cd081",
   "metadata": {},
   "outputs": [
    {
     "name": "stdout",
     "output_type": "stream",
     "text": [
      "range(0, 10)\n"
     ]
    }
   ],
   "source": [
    "number=range(10)\n",
    "print(number)\n"
   ]
  },
  {
   "cell_type": "code",
   "execution_count": 70,
   "id": "b733539b",
   "metadata": {},
   "outputs": [
    {
     "name": "stdout",
     "output_type": "stream",
     "text": [
      "[0, 1, 2, 3, 4, 5, 6, 7, 8, 9]\n"
     ]
    }
   ],
   "source": [
    "number = list(range(10))\n",
    "print(number)"
   ]
  },
  {
   "cell_type": "code",
   "execution_count": 75,
   "id": "534e33cd",
   "metadata": {},
   "outputs": [
    {
     "name": "stdout",
     "output_type": "stream",
     "text": [
      "[10, 12, 14, 16, 18, 20, 22, 24]\n"
     ]
    }
   ],
   "source": [
    "number = list(range(10 ,25,2))  # range(start,stop,step)\n",
    "print(number)"
   ]
  },
  {
   "cell_type": "markdown",
   "id": "0d0358fa",
   "metadata": {},
   "source": [
    "###  Code reuse and functions in python"
   ]
  },
  {
   "cell_type": "code",
   "execution_count": 80,
   "id": "0f6b14dd",
   "metadata": {},
   "outputs": [
    {
     "name": "stdout",
     "output_type": "stream",
     "text": [
      "Rajeev\n",
      "uday\n",
      "prakash\n",
      "kumar\n",
      "Rajeev\n",
      "uday\n",
      "prakash\n"
     ]
    }
   ],
   "source": [
    "def function1():\n",
    "    print(\"Rajeev\")\n",
    "    print(\"uday\")\n",
    "    print(\"prakash\")\n",
    "def function2():\n",
    "    print(\"kumar\")\n",
    "    function1()\n",
    "function1()\n",
    "function2()"
   ]
  },
  {
   "cell_type": "markdown",
   "id": "3cb3a704",
   "metadata": {},
   "source": [
    "###  For loop in python"
   ]
  },
  {
   "cell_type": "code",
   "execution_count": 81,
   "id": "f51d30e0",
   "metadata": {},
   "outputs": [
    {
     "name": "stdout",
     "output_type": "stream",
     "text": [
      "1 odd\n",
      "2 even\n",
      "3 odd\n",
      "4 even\n",
      "5 odd\n",
      "6 even\n",
      "7 odd\n",
      "8 even\n",
      "9 odd\n",
      "10 even\n"
     ]
    }
   ],
   "source": [
    "# number is even or odd\n",
    "for i in range(1,11):\n",
    "    if i%2==0:\n",
    "        print(i,\"even\")\n",
    "    else:\n",
    "        print(i,\"odd\")"
   ]
  },
  {
   "cell_type": "code",
   "execution_count": 84,
   "id": "9a7d9fad",
   "metadata": {},
   "outputs": [
    {
     "name": "stdout",
     "output_type": "stream",
     "text": [
      "Rajeev\n",
      "uday\n",
      "prakash\n",
      "Mukesh\n"
     ]
    }
   ],
   "source": [
    "name1 = [\"Rajeev\",\"uday\",\"prakash\",\"Mukesh\"]\n",
    "for i in name1:\n",
    "    print(i)"
   ]
  },
  {
   "cell_type": "code",
   "execution_count": 85,
   "id": "913481d5",
   "metadata": {},
   "outputs": [
    {
     "name": "stdout",
     "output_type": "stream",
     "text": [
      "1\n",
      "3\n",
      "5\n",
      "7\n",
      "9\n"
     ]
    }
   ],
   "source": [
    "for i in range(1,10,2):\n",
    "    print(i)\n"
   ]
  },
  {
   "cell_type": "markdown",
   "id": "4ee0d32e",
   "metadata": {},
   "source": [
    "###  Boolean logic in python"
   ]
  },
  {
   "cell_type": "code",
   "execution_count": 87,
   "id": "680b8b59",
   "metadata": {},
   "outputs": [
    {
     "name": "stdout",
     "output_type": "stream",
     "text": [
      "valid user\n"
     ]
    }
   ],
   "source": [
    "user_name=\"Admin\"\n",
    "password=\"Admin123\"\n",
    "if user_name == \"Admin\" and password == \"Admin123\" :\n",
    "    print(\"valid user\")\n",
    "else:\n",
    "    print (\"invalid user\")\n"
   ]
  },
  {
   "cell_type": "code",
   "execution_count": 88,
   "id": "22e98c71",
   "metadata": {},
   "outputs": [
    {
     "name": "stdout",
     "output_type": "stream",
     "text": [
      "invalid user\n"
     ]
    }
   ],
   "source": [
    "user_name=\"Admins\"\n",
    "password=\"Admin123\"\n",
    "if user_name == \"Admin\" and password == \"Admin123\" :\n",
    "    print(\"valid user\")\n",
    "else:\n",
    "    print (\"invalid user\")\n"
   ]
  },
  {
   "cell_type": "code",
   "execution_count": 89,
   "id": "c356b741",
   "metadata": {},
   "outputs": [
    {
     "name": "stdout",
     "output_type": "stream",
     "text": [
      "valid user\n"
     ]
    }
   ],
   "source": [
    "user_name=\"Admins\"\n",
    "password=\"Admin123\"\n",
    "if user_name == \"Admin\" or password == \"Admin123\" :\n",
    "    print(\"valid user\")\n",
    "else:\n",
    "    print (\"invalid user\")\n"
   ]
  },
  {
   "cell_type": "markdown",
   "id": "19e3f045",
   "metadata": {},
   "source": [
    "###  While loop"
   ]
  },
  {
   "cell_type": "code",
   "execution_count": 93,
   "id": "86ad5b65",
   "metadata": {},
   "outputs": [
    {
     "name": "stdout",
     "output_type": "stream",
     "text": [
      "0\n",
      "1\n",
      "2\n",
      "3\n",
      "4\n",
      "5\n",
      "6\n",
      "7\n",
      "8\n",
      "9\n",
      "10\n"
     ]
    }
   ],
   "source": [
    "counter=0\n",
    "while (counter <=10):\n",
    "    print(counter)\n",
    "    counter += 1\n"
   ]
  },
  {
   "cell_type": "code",
   "execution_count": 109,
   "id": "43090e66",
   "metadata": {},
   "outputs": [],
   "source": [
    "#############################################################################################    QUESTION"
   ]
  },
  {
   "cell_type": "markdown",
   "id": "045b7728",
   "metadata": {},
   "source": [
    "\n",
    "\n",
    "Create a list of your favorite food items, the list should have minimum 5 elements.\n",
    "1. List out the 3rd element in the list.\n",
    "2. Add additional item to the current list and display the list.\n",
    "3. Insert an element named tacos at the 3rd index position of the list and\n",
    "4. print out the list elements.\n"
   ]
  },
  {
   "cell_type": "code",
   "execution_count": 104,
   "id": "97feedb8",
   "metadata": {},
   "outputs": [
    {
     "name": "stdout",
     "output_type": "stream",
     "text": [
      "cupcake\n",
      "['eggs', 'pizza', 'cupcake', 'burger', 'salmon', 'cake']\n",
      "['eggs', 'pizza', 'cupcake', 'tacos', 'burger', 'salmon', 'cake']\n"
     ]
    }
   ],
   "source": [
    "food = ['eggs', 'pizza', 'cupcake', 'burger', 'salmon']\n",
    "print(food[2])\n",
    "food.append('cake')\n",
    "print(food)\n",
    "food.insert(3, 'tacos')\n",
    "print(food)"
   ]
  },
  {
   "cell_type": "code",
   "execution_count": 105,
   "id": "b4f8edb4",
   "metadata": {},
   "outputs": [],
   "source": [
    "# Task no 1: Using a for-loop and a range function, print \"I am a programmer\" 5 times.\n",
    "\n",
    "\n",
    "# Task no 2: Create a function which displays out the square values of numbers from 1 to 9."
   ]
  },
  {
   "cell_type": "code",
   "execution_count": 107,
   "id": "c9eb9fb0",
   "metadata": {},
   "outputs": [
    {
     "name": "stdout",
     "output_type": "stream",
     "text": [
      "I am a programmer\n",
      "I am a programmer\n",
      "I am a programmer\n",
      "I am a programmer\n",
      "I am a programmer\n"
     ]
    }
   ],
   "source": [
    "# Task no 1:\n",
    "for x in range(5):\n",
    " \n",
    "    print('I am a programmer')    "
   ]
  },
  {
   "cell_type": "code",
   "execution_count": 108,
   "id": "db899628",
   "metadata": {},
   "outputs": [
    {
     "name": "stdout",
     "output_type": "stream",
     "text": [
      "1\n",
      "4\n",
      "9\n",
      "16\n",
      "25\n",
      "36\n",
      "49\n",
      "64\n",
      "81\n"
     ]
    }
   ],
   "source": [
    "# Task no 2:\n",
    "def display_square():\n",
    "    for x in range(1,10):\n",
    "        print(x*x)\n",
    "display_square()"
   ]
  },
  {
   "cell_type": "code",
   "execution_count": 110,
   "id": "5c892423",
   "metadata": {},
   "outputs": [],
   "source": [
    "################################################################################################################################"
   ]
  },
  {
   "cell_type": "markdown",
   "id": "7ee29517",
   "metadata": {},
   "source": [
    "###  Functions and Modules in python"
   ]
  },
  {
   "cell_type": "code",
   "execution_count": 3,
   "id": "79187f09",
   "metadata": {},
   "outputs": [],
   "source": [
    "# passing arguments to function"
   ]
  },
  {
   "cell_type": "code",
   "execution_count": 2,
   "id": "4be3dcda",
   "metadata": {},
   "outputs": [
    {
     "name": "stdout",
     "output_type": "stream",
     "text": [
      "36\n",
      "300\n"
     ]
    }
   ],
   "source": [
    "def Add(a,b):\n",
    "    print(a+b)\n",
    "    \n",
    "Add(13,23)\n",
    "Add(100,200)"
   ]
  },
  {
   "cell_type": "code",
   "execution_count": 5,
   "id": "217b8e0b",
   "metadata": {},
   "outputs": [
    {
     "name": "stdout",
     "output_type": "stream",
     "text": [
      "500\n"
     ]
    }
   ],
   "source": [
    "# Making function return value in python\n",
    "\n",
    "def Add(a ,b):\n",
    "    c = a + b\n",
    "    return c\n",
    "\n",
    "result = Add(100 ,400)   # jaha se function call hota h wahi par value return hota h\n",
    "print(result)"
   ]
  },
  {
   "cell_type": "code",
   "execution_count": 7,
   "id": "26c8ea6f",
   "metadata": {},
   "outputs": [
    {
     "name": "stdout",
     "output_type": "stream",
     "text": [
      "25\n"
     ]
    }
   ],
   "source": [
    "# passing function as argument in python\n",
    "\n",
    "def Add(a ,b):\n",
    "    return a + b\n",
    "\n",
    "def square(c):\n",
    "    return c *c\n",
    "\n",
    "result =square(Add(3, 2))\n",
    "print(result)"
   ]
  },
  {
   "cell_type": "code",
   "execution_count": 8,
   "id": "cf20b672",
   "metadata": {},
   "outputs": [
    {
     "name": "stdout",
     "output_type": "stream",
     "text": [
      "1\n",
      "3\n",
      "2\n",
      "2\n",
      "1\n",
      "5\n",
      "4\n",
      "2\n",
      "1\n",
      "1\n",
      "4\n",
      "4\n",
      "4\n"
     ]
    }
   ],
   "source": [
    "# Modules in python\n",
    "\n",
    "import random\n",
    "\n",
    "for i in range(13):\n",
    "    result= random.randint(1,6)\n",
    "    print(result)"
   ]
  },
  {
   "cell_type": "markdown",
   "id": "5f62a730",
   "metadata": {},
   "source": [
    "###  Question"
   ]
  },
  {
   "cell_type": "markdown",
   "id": "86a86cdb",
   "metadata": {},
   "source": [
    "###  BMI = (weight in Kg)/(Height in Meters)^2.\n",
    "\n",
    "\n",
    "Write python code which can accept the weight and height of a person and calculate his BMI."
   ]
  },
  {
   "cell_type": "code",
   "execution_count": 9,
   "id": "b90c13e1",
   "metadata": {},
   "outputs": [
    {
     "name": "stdout",
     "output_type": "stream",
     "text": [
      "Weight in kg5\n",
      "height in kg7\n",
      "0.10204081632653061\n"
     ]
    }
   ],
   "source": [
    "def BMI(w, h):\n",
    "    return w/(pow(h,2))\n",
    "\n",
    "w=int(input(\"Weight in kg\"))\n",
    "h=int(input(\"height in kg\"))\n",
    "result = BMI(w ,h)\n",
    "print(result)"
   ]
  },
  {
   "cell_type": "markdown",
   "id": "69258788",
   "metadata": {},
   "source": [
    "###   Exception handling and file handling in python"
   ]
  },
  {
   "cell_type": "code",
   "execution_count": 13,
   "id": "edd2d06f",
   "metadata": {},
   "outputs": [
    {
     "name": "stdout",
     "output_type": "stream",
     "text": [
      "There is a devide by zero error\n"
     ]
    }
   ],
   "source": [
    "# Exception handling\n",
    "\n",
    "try:\n",
    "    a=10\n",
    "    b=0\n",
    "    print(a/b)\n",
    "except ZeroDivisionError:\n",
    "    print(\"There is a devide by zero error\")"
   ]
  },
  {
   "cell_type": "code",
   "execution_count": 14,
   "id": "64fdf7fc",
   "metadata": {},
   "outputs": [
    {
     "name": "stdout",
     "output_type": "stream",
     "text": [
      "0.5\n"
     ]
    }
   ],
   "source": [
    "try:\n",
    "    a=10\n",
    "    b=20\n",
    "    print(a/b)\n",
    "except ZeroDivisionError :\n",
    "    print(\"There is a devide by zero error\")\n"
   ]
  },
  {
   "cell_type": "code",
   "execution_count": 15,
   "id": "d477e382",
   "metadata": {},
   "outputs": [
    {
     "name": "stdout",
     "output_type": "stream",
     "text": [
      "there is a devide by zero error\n",
      "This is going to excecute no matter what\n"
     ]
    }
   ],
   "source": [
    "# finally block\n",
    "\n",
    "try:\n",
    "    a=10\n",
    "    b=0\n",
    "    print(a/b)\n",
    "    \n",
    "except ZeroDivisionError :\n",
    "    print(\"there is a devide by zero error\")\n",
    "    \n",
    "finally :\n",
    "    print(\"This is going to excecute no matter what\")"
   ]
  },
  {
   "cell_type": "code",
   "execution_count": 16,
   "id": "6da51beb",
   "metadata": {},
   "outputs": [
    {
     "name": "stdout",
     "output_type": "stream",
     "text": [
      "3.3333333333333335\n",
      "This is going to excecute no matter what\n"
     ]
    }
   ],
   "source": [
    "try:\n",
    "    a=10\n",
    "    b=3\n",
    "    print(a/b)\n",
    "    \n",
    "except ZeroDivisionError :\n",
    "    print(\"there is a devide by zero error\")\n",
    "    \n",
    "finally :\n",
    "    print(\"This is going to excecute no matter what\")"
   ]
  },
  {
   "cell_type": "code",
   "execution_count": 24,
   "id": "62da24b9",
   "metadata": {},
   "outputs": [],
   "source": [
    "# File Handling\n",
    "\n",
    "file = open(\"C:\\\\Users\\kumar\\Desktop/python_demo.txt\",'w')\n",
    "# do something write the file\n",
    "file.close()"
   ]
  },
  {
   "cell_type": "code",
   "execution_count": 26,
   "id": "57488a97",
   "metadata": {},
   "outputs": [
    {
     "name": "stdout",
     "output_type": "stream",
     "text": [
      "This is the first line\n",
      "This is the second line\n",
      "This is the third line\n"
     ]
    }
   ],
   "source": [
    "file = open(\"C:\\\\Users\\kumar\\Desktop/python_demo.txt\",'r')\n",
    "content = file.read()\n",
    "print(content)\n",
    "file.close()"
   ]
  },
  {
   "cell_type": "code",
   "execution_count": 1,
   "id": "b0fe31f7",
   "metadata": {},
   "outputs": [
    {
     "name": "stdout",
     "output_type": "stream",
     "text": [
      "This is the first line\n",
      "\n"
     ]
    }
   ],
   "source": [
    "file = open(\"C:\\\\Users\\kumar\\Desktop/python_demo.txt\",'r')\n",
    "content = file.readline()\n",
    "print(content)\n",
    "file.close()"
   ]
  },
  {
   "cell_type": "code",
   "execution_count": 2,
   "id": "4d45bfe9",
   "metadata": {},
   "outputs": [
    {
     "name": "stdout",
     "output_type": "stream",
     "text": [
      "This is th\n"
     ]
    }
   ],
   "source": [
    "file = open(\"C:\\\\Users\\kumar\\Desktop/python_demo.txt\",'r')\n",
    "content = file.read(10)\n",
    "print(content)\n",
    "file.close()"
   ]
  },
  {
   "cell_type": "code",
   "execution_count": 3,
   "id": "58b13612",
   "metadata": {},
   "outputs": [
    {
     "name": "stdout",
     "output_type": "stream",
     "text": [
      "This is a first line\n"
     ]
    }
   ],
   "source": [
    "file = open(\"C:\\\\Users\\kumar\\Desktop/python_demo.txt\",'w')\n",
    "file.write(\"This is a first line\")\n",
    "file.close()\n",
    "\n",
    "file=open(\"C:\\\\Users\\kumar\\Desktop/python_demo.txt\",'r')\n",
    "content = file.read()\n",
    "print(content)\n",
    "file.close()"
   ]
  },
  {
   "cell_type": "code",
   "execution_count": 5,
   "id": "27676e5b",
   "metadata": {},
   "outputs": [
    {
     "name": "stdout",
     "output_type": "stream",
     "text": [
      "This is a first line\n",
      "This is a first linethis is a new line\n"
     ]
    }
   ],
   "source": [
    "file = open(\"C:\\\\Users\\kumar\\Desktop/python_demo.txt\",'w')\n",
    "file.write(\"This is a first line\")\n",
    "file.close()\n",
    "\n",
    "file=open(\"C:\\\\Users\\kumar\\Desktop/python_demo.txt\",'r')\n",
    "content = file.read()\n",
    "print(content)\n",
    "file.close()\n",
    "\n",
    "file = open(\"C:\\\\Users\\kumar\\Desktop/python_demo.txt\",'a')   # a - >Append = not delated previous line\n",
    "file.write(\"this is a new line\")\n",
    "file.close()\n",
    "\n",
    "file=open(\"C:\\\\Users\\kumar\\Desktop/python_demo.txt\",'r')\n",
    "content = file.read()\n",
    "print(content)\n",
    "file.close()\n"
   ]
  },
  {
   "cell_type": "markdown",
   "id": "422237af",
   "metadata": {},
   "source": [
    "###   1. Open the file\n",
    "###   2. write and read the file\n",
    "###   3.Close the file"
   ]
  },
  {
   "cell_type": "code",
   "execution_count": 6,
   "id": "ed39278e",
   "metadata": {},
   "outputs": [],
   "source": [
    "################################################################################################################################"
   ]
  },
  {
   "cell_type": "markdown",
   "id": "45ec82c7",
   "metadata": {},
   "source": [
    "### Some more types in python"
   ]
  },
  {
   "cell_type": "markdown",
   "id": "f8d5a114",
   "metadata": {},
   "source": [
    "###  Dictionaries"
   ]
  },
  {
   "cell_type": "code",
   "execution_count": 8,
   "id": "1c1e1aaa",
   "metadata": {},
   "outputs": [
    {
     "name": "stdout",
     "output_type": "stream",
     "text": [
      "{'Rajeev': 23, 'Uday': 24}\n",
      "23\n"
     ]
    }
   ],
   "source": [
    "people = { \"Rajeev\":23,\"Uday\":24}\n",
    "print(people)\n",
    "print(people[\"Rajeev\"])"
   ]
  },
  {
   "cell_type": "code",
   "execution_count": 14,
   "id": "1b95ebd4",
   "metadata": {},
   "outputs": [
    {
     "name": "stdout",
     "output_type": "stream",
     "text": [
      "dict_values([23, 24])\n"
     ]
    }
   ],
   "source": [
    "people = { \"Rajeev\":23,\"Uday\":24}\n",
    "print(people.values())"
   ]
  },
  {
   "cell_type": "code",
   "execution_count": 15,
   "id": "80d76800",
   "metadata": {},
   "outputs": [
    {
     "name": "stdout",
     "output_type": "stream",
     "text": [
      "dict_keys(['Rajeev', 'Uday'])\n"
     ]
    }
   ],
   "source": [
    "people = { \"Rajeev\":23,\"Uday\":24}\n",
    "print(people.keys())"
   ]
  },
  {
   "cell_type": "markdown",
   "id": "445fa9b4",
   "metadata": {},
   "source": [
    "###  Dictionaries function"
   ]
  },
  {
   "cell_type": "code",
   "execution_count": 20,
   "id": "7e96ca90",
   "metadata": {},
   "outputs": [
    {
     "name": "stdout",
     "output_type": "stream",
     "text": [
      "True\n",
      "True\n",
      "False\n"
     ]
    }
   ],
   "source": [
    "numbers ={\n",
    "    1 : \"one\",\n",
    "    2 : \"two\",\n",
    "    3 : \"three\"\n",
    "}\n",
    "\n",
    "print(1 in numbers)\n",
    "print(2 in numbers)\n",
    "print (7 in numbers)"
   ]
  },
  {
   "cell_type": "code",
   "execution_count": 22,
   "id": "57d147e8",
   "metadata": {},
   "outputs": [
    {
     "name": "stdout",
     "output_type": "stream",
     "text": [
      "False\n",
      "False\n",
      "False\n"
     ]
    }
   ],
   "source": [
    "numbers ={\n",
    "    \"one\" : 1,\n",
    "    \"two\" : 2,\n",
    "    \"three\" :3\n",
    "}\n",
    "\n",
    "print(1 in numbers)\n",
    "print(2 in numbers)\n",
    "print (7 in numbers)"
   ]
  },
  {
   "cell_type": "code",
   "execution_count": 23,
   "id": "e79987d5",
   "metadata": {},
   "outputs": [
    {
     "name": "stdout",
     "output_type": "stream",
     "text": [
      "True\n",
      "True\n",
      "False\n"
     ]
    }
   ],
   "source": [
    "numbers ={\n",
    "    \"one\" : 1,\n",
    "    \"two\" : 2,\n",
    "    \"three\" :3\n",
    "}\n",
    "\n",
    "print(\"one\" in numbers)\n",
    "print(\"two\" in numbers)\n",
    "print (\"seven\" in numbers)"
   ]
  },
  {
   "cell_type": "code",
   "execution_count": 25,
   "id": "f76ad14f",
   "metadata": {},
   "outputs": [
    {
     "name": "stdout",
     "output_type": "stream",
     "text": [
      "one\n",
      "two\n",
      "three\n"
     ]
    }
   ],
   "source": [
    "numbers ={\n",
    "    1 : \"one\",\n",
    "    2 : \"two\",\n",
    "    3 : \"three\"\n",
    "}\n",
    "\n",
    "print(numbers.get(1))\n",
    "print(numbers.get(2))\n",
    "print(numbers.get(3))"
   ]
  },
  {
   "cell_type": "code",
   "execution_count": 28,
   "id": "de51a152",
   "metadata": {},
   "outputs": [
    {
     "name": "stdout",
     "output_type": "stream",
     "text": [
      "1\n",
      "2\n",
      "3\n"
     ]
    }
   ],
   "source": [
    "numbers ={\n",
    "    \"one\" : 1,\n",
    "    \"two\" : 2,\n",
    "    \"three\" :3\n",
    "}\n",
    "\n",
    "print(numbers.get(\"one\"))\n",
    "print(numbers.get(\"two\"))\n",
    "print(numbers.get(\"three\"))"
   ]
  },
  {
   "cell_type": "code",
   "execution_count": 29,
   "id": "7bce89a0",
   "metadata": {},
   "outputs": [
    {
     "name": "stdout",
     "output_type": "stream",
     "text": [
      "None\n",
      "key not found\n"
     ]
    }
   ],
   "source": [
    "numbers ={\n",
    "    1 : \"one\",\n",
    "    2 : \"two\",\n",
    "    3 : \"three\"\n",
    "}\n",
    "\n",
    "print(numbers.get(7))\n",
    "print(numbers.get(4,\"key not found\"))\n"
   ]
  },
  {
   "cell_type": "markdown",
   "id": "d0426171",
   "metadata": {},
   "source": [
    "###  Tuples : Immutable : Not change the value"
   ]
  },
  {
   "cell_type": "code",
   "execution_count": 30,
   "id": "831c97ce",
   "metadata": {},
   "outputs": [
    {
     "name": "stdout",
     "output_type": "stream",
     "text": [
      "('Mango', 'Apple', 'Banana')\n",
      "Mango\n"
     ]
    }
   ],
   "source": [
    "fruits = (\"Mango\",\"Apple\",\"Banana\")\n",
    "print(fruits)\n",
    "print(fruits[0])"
   ]
  },
  {
   "cell_type": "markdown",
   "id": "1c703dd6",
   "metadata": {},
   "source": [
    "### not change the value\n",
    "fruits = (\"Mango\",\"Apple\",\"Banana\")\n",
    "\n",
    "fruits[0]=\"peach\"\n",
    "\n",
    "print(fruits)\n",
    "# Error"
   ]
  },
  {
   "cell_type": "code",
   "execution_count": 32,
   "id": "13e257d6",
   "metadata": {},
   "outputs": [
    {
     "name": "stdout",
     "output_type": "stream",
     "text": [
      "('Mango', 'Apple', 'Banana')\n",
      "Mango\n"
     ]
    }
   ],
   "source": [
    "fruits = \"Mango\",\"Apple\",\"Banana\"\n",
    "print(fruits)\n",
    "print(fruits[0])"
   ]
  },
  {
   "cell_type": "markdown",
   "id": "0a58f056",
   "metadata": {},
   "source": [
    "###   List Slicing"
   ]
  },
  {
   "cell_type": "code",
   "execution_count": 37,
   "id": "6e14a626",
   "metadata": {},
   "outputs": [
    {
     "name": "stdout",
     "output_type": "stream",
     "text": [
      "[300, 400, 700]\n",
      "[100, 200, 300]\n",
      "[400, 700, 900]\n",
      "[100, 200, 300, 400, 700, 900]\n",
      "300\n",
      "[200, 400, 900]\n"
     ]
    }
   ],
   "source": [
    "number = [100,200,300,400,700,900]\n",
    "print(number[2:5])\n",
    "print(number[:3])\n",
    "print(number[3:])\n",
    "print(number[:])\n",
    "print(number[-4])\n",
    "print(number[1:6:2])"
   ]
  },
  {
   "cell_type": "markdown",
   "id": "1de91586",
   "metadata": {},
   "source": [
    "###  List Comprehension"
   ]
  },
  {
   "cell_type": "code",
   "execution_count": 42,
   "id": "c77dd433",
   "metadata": {},
   "outputs": [
    {
     "name": "stdout",
     "output_type": "stream",
     "text": [
      "[0, 1, 4, 9, 16, 25]\n"
     ]
    }
   ],
   "source": [
    "list = [ x**2 for x in range (6)]\n",
    "print (list)\n"
   ]
  },
  {
   "cell_type": "code",
   "execution_count": 43,
   "id": "4ae51946",
   "metadata": {},
   "outputs": [
    {
     "name": "stdout",
     "output_type": "stream",
     "text": [
      "[0, 4, 16, 36, 64, 100]\n"
     ]
    }
   ],
   "source": [
    "list = [x**2 for x in range(11) if x**2 % 2==0]\n",
    "print(list)"
   ]
  },
  {
   "cell_type": "markdown",
   "id": "4207e2dc",
   "metadata": {},
   "source": [
    "###  String Formatting"
   ]
  },
  {
   "cell_type": "code",
   "execution_count": 1,
   "id": "8cd26a01",
   "metadata": {},
   "outputs": [
    {
     "name": "stdout",
     "output_type": "stream",
     "text": [
      "numbers:3456789\n"
     ]
    }
   ],
   "source": [
    "numbers = [3,4,5,6,7,8,9]\n",
    "\n",
    "newstring = \"numbers:{0}{1}{2}{3}{4}{5}{6}\".format(numbers[0],numbers[1],numbers[2],numbers[3],numbers[4],numbers[5],numbers[6])\n",
    "print(newstring)"
   ]
  },
  {
   "cell_type": "code",
   "execution_count": 2,
   "id": "bc8b3011",
   "metadata": {},
   "outputs": [
    {
     "name": "stdout",
     "output_type": "stream",
     "text": [
      "numbers:3,4,5\n"
     ]
    }
   ],
   "source": [
    "numbers = [3,4,5]\n",
    "\n",
    "newstring = \"numbers:{0},{1},{2}\".format(numbers[0],numbers[1],numbers[2])\n",
    "print(newstring)"
   ]
  },
  {
   "cell_type": "code",
   "execution_count": 4,
   "id": "fbf1a1b7",
   "metadata": {},
   "outputs": [
    {
     "name": "stdout",
     "output_type": "stream",
     "text": [
      "Date:28/12/2022\n"
     ]
    }
   ],
   "source": [
    "numbers = [28,12,2022]\n",
    "\n",
    "newstring = \"Date:{0}/{1}/{2}\".format(numbers[0],numbers[1],numbers[2])\n",
    "print(newstring)"
   ]
  },
  {
   "cell_type": "code",
   "execution_count": 5,
   "id": "3b9332b0",
   "metadata": {},
   "outputs": [
    {
     "name": "stdout",
     "output_type": "stream",
     "text": [
      "28/12/2022\n"
     ]
    }
   ],
   "source": [
    "a = \"{x}/{y}/{z}\".format(x=28,y=12,z=2022)\n",
    "print(a)"
   ]
  },
  {
   "cell_type": "markdown",
   "id": "3c530013",
   "metadata": {},
   "source": [
    "###  String functions"
   ]
  },
  {
   "cell_type": "code",
   "execution_count": 7,
   "id": "7f713752",
   "metadata": {},
   "outputs": [
    {
     "name": "stdout",
     "output_type": "stream",
     "text": [
      "mango,banana,apple\n"
     ]
    }
   ],
   "source": [
    "A = \",\".join([\"mango\",\"banana\",\"apple\"])\n",
    "print(A)"
   ]
  },
  {
   "cell_type": "code",
   "execution_count": 9,
   "id": "71e3a40e",
   "metadata": {},
   "outputs": [
    {
     "name": "stdout",
     "output_type": "stream",
     "text": [
      "mango:banana:apple\n"
     ]
    }
   ],
   "source": [
    "B = \":\".join([\"mango\",\"banana\",\"apple\"])\n",
    "print(B)"
   ]
  },
  {
   "cell_type": "code",
   "execution_count": 10,
   "id": "19d6954c",
   "metadata": {},
   "outputs": [
    {
     "name": "stdout",
     "output_type": "stream",
     "text": [
      "apple;mango;banana\n"
     ]
    }
   ],
   "source": [
    "c = \";\".join([\"apple\",\"mango\",\"banana\"])\n",
    "print(c)"
   ]
  },
  {
   "cell_type": "code",
   "execution_count": 11,
   "id": "afdf4218",
   "metadata": {},
   "outputs": [
    {
     "name": "stdout",
     "output_type": "stream",
     "text": [
      "mango:banana:apple\n"
     ]
    }
   ],
   "source": [
    "D = \":\".join((\"mango\",\"banana\",\"apple\"))\n",
    "print(D)"
   ]
  },
  {
   "cell_type": "code",
   "execution_count": 12,
   "id": "a1f9bd48",
   "metadata": {},
   "outputs": [
    {
     "name": "stdout",
     "output_type": "stream",
     "text": [
      "Hello World\n"
     ]
    }
   ],
   "source": [
    "ab = \"Hello there\".replace(\"there\",\"World\")\n",
    "print(ab)"
   ]
  },
  {
   "cell_type": "code",
   "execution_count": 13,
   "id": "a2e2ee7b",
   "metadata": {},
   "outputs": [
    {
     "name": "stdout",
     "output_type": "stream",
     "text": [
      "Hello World\n"
     ]
    }
   ],
   "source": [
    "newstring = \"Hello there\"\n",
    "\n",
    "print(newstring.replace(\"there\",\"World\"))"
   ]
  },
  {
   "cell_type": "code",
   "execution_count": 15,
   "id": "407b874f",
   "metadata": {},
   "outputs": [
    {
     "name": "stdout",
     "output_type": "stream",
     "text": [
      "True\n",
      "False\n"
     ]
    }
   ],
   "source": [
    "newstring = \"This is a starting\"\n",
    "print(newstring.startswith(\"This\"))\n",
    "print(newstring.startswith(\"is\"))"
   ]
  },
  {
   "cell_type": "code",
   "execution_count": 17,
   "id": "4b43c17e",
   "metadata": {},
   "outputs": [
    {
     "name": "stdout",
     "output_type": "stream",
     "text": [
      "True\n",
      "False\n"
     ]
    }
   ],
   "source": [
    "newstring =\" This is a first line\"\n",
    "print(newstring.endswith(\"line\"))\n",
    "print(newstring.endswith(\"This\"))"
   ]
  },
  {
   "cell_type": "code",
   "execution_count": 18,
   "id": "cace20f1",
   "metadata": {},
   "outputs": [
    {
     "name": "stdout",
     "output_type": "stream",
     "text": [
      "THIS IS A FIRST LINE\n",
      "this is a first line\n"
     ]
    }
   ],
   "source": [
    "newstring = \"This is a first line\"\n",
    "print(newstring.upper())\n",
    "print(newstring.lower())"
   ]
  },
  {
   "cell_type": "markdown",
   "id": "f1784b5c",
   "metadata": {},
   "source": [
    "###  Numeric function"
   ]
  },
  {
   "cell_type": "code",
   "execution_count": 21,
   "id": "02df42ee",
   "metadata": {},
   "outputs": [
    {
     "name": "stdout",
     "output_type": "stream",
     "text": [
      "9\n"
     ]
    }
   ],
   "source": [
    "print(max(3,4,1,8,9))"
   ]
  },
  {
   "cell_type": "code",
   "execution_count": 23,
   "id": "4af275ba",
   "metadata": {},
   "outputs": [
    {
     "name": "stdout",
     "output_type": "stream",
     "text": [
      "1\n"
     ]
    }
   ],
   "source": [
    "print(min(3,4,1,8,9))"
   ]
  },
  {
   "cell_type": "code",
   "execution_count": 24,
   "id": "01beb8cc",
   "metadata": {},
   "outputs": [
    {
     "name": "stdout",
     "output_type": "stream",
     "text": [
      "234\n"
     ]
    }
   ],
   "source": [
    "print(abs(-234))"
   ]
  },
  {
   "cell_type": "code",
   "execution_count": 33,
   "id": "b7704dca",
   "metadata": {},
   "outputs": [
    {
     "name": "stdout",
     "output_type": "stream",
     "text": [
      "25\n"
     ]
    }
   ],
   "source": [
    "# Write Python code which accepts name of a product and in turn returns their respective prices.\n",
    "\n",
    "\n",
    "\n",
    "\n",
    "def Product(name):\n",
    "    return product[name]\n",
    "\n",
    "product = {\"mango\":25,\"apple\":30}\n",
    "\n",
    "print(Product(\"mango\"))\n"
   ]
  },
  {
   "cell_type": "code",
   "execution_count": 34,
   "id": "d876b5a4",
   "metadata": {},
   "outputs": [
    {
     "name": "stdout",
     "output_type": "stream",
     "text": [
      "Enter product nameChair\n",
      "40\n"
     ]
    }
   ],
   "source": [
    "# Write Python code which accepts name of a product and in turn returns their respective prices.\n",
    "\n",
    "\n",
    "\n",
    "products = {\"Chair\":40, \"Sofa\": 500, \"Table\": 90, \"Monitor\": 100 , \"Carpet\": 200}\n",
    "newproduct = input('Enter product name')\n",
    "if(newproduct in products):\n",
    "    print(products.get(newproduct))\n",
    "else:\n",
    "    print('Product Not Found')"
   ]
  },
  {
   "cell_type": "code",
   "execution_count": 40,
   "id": "50c5ef27",
   "metadata": {},
   "outputs": [
    {
     "name": "stdout",
     "output_type": "stream",
     "text": [
      "[1, 3, 5, 7, 9, 11, 13, 15, 17, 19, 21, 23, 25, 27, 29, 31, 33, 35, 37, 39, 41, 43, 45, 47, 49, 51, 53, 55, 57, 59, 61, 63, 65, 67, 69, 71, 73, 75, 77, 79, 81, 83, 85, 87, 89, 91, 93, 95, 97, 99]\n"
     ]
    }
   ],
   "source": [
    "# List out  all the odd numbers from 1 to 100 using lists in Python.\n",
    "\n",
    "\n",
    "list = [x for x in range (1,101) if x%2!=0]\n",
    "print(list)"
   ]
  },
  {
   "cell_type": "code",
   "execution_count": null,
   "id": "568584d9",
   "metadata": {},
   "outputs": [],
   "source": []
  }
 ],
 "metadata": {
  "kernelspec": {
   "display_name": "Python 3 (ipykernel)",
   "language": "python",
   "name": "python3"
  },
  "language_info": {
   "codemirror_mode": {
    "name": "ipython",
    "version": 3
   },
   "file_extension": ".py",
   "mimetype": "text/x-python",
   "name": "python",
   "nbconvert_exporter": "python",
   "pygments_lexer": "ipython3",
   "version": "3.9.12"
  }
 },
 "nbformat": 4,
 "nbformat_minor": 5
}
